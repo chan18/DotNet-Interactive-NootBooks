{
 "cells": [
  {
   "cell_type": "markdown",
   "metadata": {},
   "source": [
    "bit operations  \n",
    "\n",
    "bit manipulation , \n",
    "\n",
    "left shifting  \n",
    "\n",
    "right shifting  \n",
    "\n",
    "bit operators  \n",
    "\n",
    "masking the bits  \n",
    "\n",
    "Getting the bits  \n",
    "\n",
    "setting the bits  \n",
    "\n",
    "binary files  \n",
    "\n",
    "bit fields  "
   ]
  },
  {
   "cell_type": "code",
   "execution_count": null,
   "metadata": {
    "dotnet_interactive": {
     "language": "csharp"
    },
    "vscode": {
     "languageId": "dotnet-interactive.csharp"
    }
   },
   "outputs": [],
   "source": []
  }
 ],
 "metadata": {
  "kernelspec": {
   "display_name": ".NET (C#)",
   "language": "C#",
   "name": ".net-csharp"
  },
  "language_info": {
   "name": "C#"
  }
 },
 "nbformat": 4,
 "nbformat_minor": 2
}
