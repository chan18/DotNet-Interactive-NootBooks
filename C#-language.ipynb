{
 "cells": [
  {
   "cell_type": "markdown",
   "metadata": {},
   "source": [
    "Nullable reference types are introduced  in C# 8. Nullable reference types include three features.\n",
    "marking reference types as NULLABLE\n",
    "1. improved static flow analysis, That determines if a variable is null before we dereferencing it.\n",
    "2. attributes that annotates the API.\n",
    "3. variable annotations."
   ]
  },
  {
   "cell_type": "markdown",
   "metadata": {},
   "source": [
    "### improved static flow analysis. dereferencing a variable.\n",
    "\n",
    "below is the piece of code what it means dereferencing a null value."
   ]
  },
  {
   "cell_type": "code",
   "execution_count": null,
   "metadata": {
    "dotnet_interactive": {
     "language": "csharp"
    },
    "vscode": {
     "languageId": "dotnet-interactive.csharp"
    }
   },
   "outputs": [],
   "source": [
    "string message = \"Hello, World!\";\n",
    "int length = message.Length; // dereferencing \"message\""
   ]
  },
  {
   "cell_type": "markdown",
   "metadata": {},
   "source": [
    "### Null static analysis\n",
    "\n",
    "The compiler determines that a variable is not-null in two ways:\n",
    "\n",
    "1. The variable has been assigned to a value that is known to be not null.\n",
    "2. The variable has been checked against null and hasn't been modified since that check.\n"
   ]
  },
  {
   "cell_type": "code",
   "execution_count": null,
   "metadata": {
    "dotnet_interactive": {
     "language": "csharp"
    },
    "vscode": {
     "languageId": "dotnet-interactive.csharp"
    }
   },
   "outputs": [],
   "source": [
    "string message = null;\n",
    "\n",
    "// warning: dereference null.\n",
    "Console.WriteLine($\"The length of the message is {message.Length}\");\n",
    "\n",
    "var originalMessage = message;\n",
    "message = \"Hello, World!\";\n",
    "\n",
    "// No warning. Analysis determined \"message\" is not null.\n",
    "Console.WriteLine($\"The length of the message is {message.Length}\");\n",
    "\n",
    "// warning!\n",
    "Console.WriteLine(originalMessage.Length);"
   ]
  },
  {
   "cell_type": "markdown",
   "metadata": {},
   "source": [
    "### Attributes on API signatures"
   ]
  },
  {
   "cell_type": "code",
   "execution_count": null,
   "metadata": {
    "dotnet_interactive": {
     "language": "csharp"
    },
    "vscode": {
     "languageId": "dotnet-interactive.csharp"
    }
   },
   "outputs": [],
   "source": [
    "using System.Diagnostics.CodeAnalysis;\n",
    "\n",
    "public static bool IsNullOrWhiteSpace([NotNullWhen(false)] string message) => false;\n",
    "\n",
    "public void PrintMessage(string message)\n",
    "{\n",
    "    if (!string.IsNullOrWhiteSpace(message))\n",
    "    {\n",
    "        Console.WriteLine($\"{DateTime.Now}: {message}\");\n",
    "    }\n",
    "}"
   ]
  }
 ],
 "metadata": {
  "kernelspec": {
   "display_name": ".NET (C#)",
   "language": "C#",
   "name": ".net-csharp"
  },
  "language_info": {
   "name": "C#"
  }
 },
 "nbformat": 4,
 "nbformat_minor": 2
}
